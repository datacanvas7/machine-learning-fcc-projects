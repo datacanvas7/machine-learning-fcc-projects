{
  "nbformat": 4,
  "nbformat_minor": 0,
  "metadata": {
    "colab": {
      "provenance": []
    },
    "kernelspec": {
      "name": "python3",
      "display_name": "Python 3"
    },
    "language_info": {
      "name": "python"
    }
  },
  "cells": [
    {
      "cell_type": "markdown",
      "source": [
        "# SMS Text Classifier Using Neural Networks\n"
      ],
      "metadata": {
        "id": "eelnaCmDoj54"
      }
    },
    {
      "cell_type": "markdown",
      "source": [
        "## 1. Data Loading & Exploration\n"
      ],
      "metadata": {
        "id": "F0QZghHdpTul"
      }
    },
    {
      "cell_type": "code",
      "execution_count": 6,
      "metadata": {
        "colab": {
          "base_uri": "https://localhost:8080/"
        },
        "id": "VzmeXeDfogZY",
        "outputId": "62d6e9c1-5c95-46be-b728-9d1d3ab00209"
      },
      "outputs": [
        {
          "output_type": "stream",
          "name": "stdout",
          "text": [
            "   type                                               text\n",
            "0     0  ahhhh...just woken up!had a bad dream about u ...\n",
            "1     0                           you can never do nothing\n",
            "2     0  now u sound like manky scouse boy steve,like! ...\n",
            "3     0  mum say we wan to go then go... then she can s...\n",
            "4     0  never y lei... i v lazy... got wat? dat day ü ...\n",
            "\n",
            "Class distribution:\n",
            "type\n",
            "0    3619\n",
            "1     560\n",
            "Name: count, dtype: int64\n"
          ]
        }
      ],
      "source": [
        "import pandas as pd\n",
        "import tensorflow as tf\n",
        "from tensorflow import keras\n",
        "import matplotlib.pyplot as plt\n",
        "from sklearn.model_selection import train_test_split\n",
        "from tensorflow.keras.preprocessing.text import Tokenizer\n",
        "from tensorflow.keras.preprocessing.sequence import pad_sequences\n",
        "\n",
        "# Load data\n",
        "train_data = pd.read_csv('train-data.csv')\n",
        "test_data = pd.read_csv('valid-data.csv')\n",
        "\n",
        "# Convert labels to binary\n",
        "train_data['type'] = train_data['type'].map({'ham': 0, 'spam': 1})\n",
        "test_data['type'] = test_data['type'].map({'ham': 0, 'spam': 1})\n",
        "\n",
        "# Explore data\n",
        "print(train_data.head())\n",
        "print(\"\\nClass distribution:\")\n",
        "print(train_data['type'].value_counts())"
      ]
    },
    {
      "cell_type": "markdown",
      "source": [
        "## 2. Text Preprocessing\n"
      ],
      "metadata": {
        "id": "kFtgmPkjqZl0"
      }
    },
    {
      "cell_type": "code",
      "source": [
        "def preprocess_text(data, max_words=10000, max_len=100):\n",
        "    \"\"\"Preprocess text data and return tokenizer and sequences\"\"\"\n",
        "    tokenizer = Tokenizer(num_words=max_words, oov_token='<OOV>')\n",
        "    tokenizer.fit_on_texts(data['text'])\n",
        "\n",
        "    sequences = tokenizer.texts_to_sequences(data['text'])\n",
        "    padded = pad_sequences(sequences, maxlen=max_len, truncating='post')\n",
        "\n",
        "    return tokenizer, padded, sequences\n",
        "\n",
        "# Preprocess training and test data\n",
        "max_words = 1000\n",
        "max_len = 50\n",
        "tokenizer, train_padded, _ = preprocess_text(train_data, max_words, max_len)\n",
        "_, test_padded, _ = preprocess_text(test_data, max_words, max_len)\n",
        "\n",
        "# Get labels\n",
        "train_labels = train_data['type'].values\n",
        "test_labels = test_data['type'].values"
      ],
      "metadata": {
        "id": "hhY_dqNyqZ8v"
      },
      "execution_count": 7,
      "outputs": []
    },
    {
      "cell_type": "markdown",
      "source": [
        "## 3. Model Building\n"
      ],
      "metadata": {
        "id": "x5okQjSOqeM2"
      }
    },
    {
      "cell_type": "code",
      "source": [
        "def build_model(vocab_size, embedding_dim=16, max_len=50):\n",
        "    \"\"\"Build and compile text classification model\"\"\"\n",
        "    model = keras.Sequential([\n",
        "        keras.layers.Embedding(vocab_size, embedding_dim, input_length=max_len),\n",
        "        keras.layers.GlobalAveragePooling1D(),\n",
        "        keras.layers.Dense(24, activation='relu'),\n",
        "        keras.layers.Dense(1, activation='sigmoid')\n",
        "    ])\n",
        "\n",
        "    model.compile(\n",
        "        loss='binary_crossentropy',\n",
        "        optimizer='adam',\n",
        "        metrics=['accuracy']\n",
        "    )\n",
        "\n",
        "    return model\n",
        "\n",
        "# Build model\n",
        "model = build_model(max_words, max_len=max_len)\n",
        "model.summary()"
      ],
      "metadata": {
        "colab": {
          "base_uri": "https://localhost:8080/",
          "height": 328
        },
        "id": "fXvR2GGSqeg2",
        "outputId": "6a8eca1a-c5e5-43c2-add2-de964989ccd1"
      },
      "execution_count": 8,
      "outputs": [
        {
          "output_type": "stream",
          "name": "stderr",
          "text": [
            "/usr/local/lib/python3.11/dist-packages/keras/src/layers/core/embedding.py:97: UserWarning: Argument `input_length` is deprecated. Just remove it.\n",
            "  warnings.warn(\n"
          ]
        },
        {
          "output_type": "display_data",
          "data": {
            "text/plain": [
              "\u001b[1mModel: \"sequential\"\u001b[0m\n"
            ],
            "text/html": [
              "<pre style=\"white-space:pre;overflow-x:auto;line-height:normal;font-family:Menlo,'DejaVu Sans Mono',consolas,'Courier New',monospace\"><span style=\"font-weight: bold\">Model: \"sequential\"</span>\n",
              "</pre>\n"
            ]
          },
          "metadata": {}
        },
        {
          "output_type": "display_data",
          "data": {
            "text/plain": [
              "┏━━━━━━━━━━━━━━━━━━━━━━━━━━━━━━━━━┳━━━━━━━━━━━━━━━━━━━━━━━━┳━━━━━━━━━━━━━━━┓\n",
              "┃\u001b[1m \u001b[0m\u001b[1mLayer (type)                   \u001b[0m\u001b[1m \u001b[0m┃\u001b[1m \u001b[0m\u001b[1mOutput Shape          \u001b[0m\u001b[1m \u001b[0m┃\u001b[1m \u001b[0m\u001b[1m      Param #\u001b[0m\u001b[1m \u001b[0m┃\n",
              "┡━━━━━━━━━━━━━━━━━━━━━━━━━━━━━━━━━╇━━━━━━━━━━━━━━━━━━━━━━━━╇━━━━━━━━━━━━━━━┩\n",
              "│ embedding (\u001b[38;5;33mEmbedding\u001b[0m)           │ ?                      │   \u001b[38;5;34m0\u001b[0m (unbuilt) │\n",
              "├─────────────────────────────────┼────────────────────────┼───────────────┤\n",
              "│ global_average_pooling1d        │ ?                      │             \u001b[38;5;34m0\u001b[0m │\n",
              "│ (\u001b[38;5;33mGlobalAveragePooling1D\u001b[0m)        │                        │               │\n",
              "├─────────────────────────────────┼────────────────────────┼───────────────┤\n",
              "│ dense (\u001b[38;5;33mDense\u001b[0m)                   │ ?                      │   \u001b[38;5;34m0\u001b[0m (unbuilt) │\n",
              "├─────────────────────────────────┼────────────────────────┼───────────────┤\n",
              "│ dense_1 (\u001b[38;5;33mDense\u001b[0m)                 │ ?                      │   \u001b[38;5;34m0\u001b[0m (unbuilt) │\n",
              "└─────────────────────────────────┴────────────────────────┴───────────────┘\n"
            ],
            "text/html": [
              "<pre style=\"white-space:pre;overflow-x:auto;line-height:normal;font-family:Menlo,'DejaVu Sans Mono',consolas,'Courier New',monospace\">┏━━━━━━━━━━━━━━━━━━━━━━━━━━━━━━━━━┳━━━━━━━━━━━━━━━━━━━━━━━━┳━━━━━━━━━━━━━━━┓\n",
              "┃<span style=\"font-weight: bold\"> Layer (type)                    </span>┃<span style=\"font-weight: bold\"> Output Shape           </span>┃<span style=\"font-weight: bold\">       Param # </span>┃\n",
              "┡━━━━━━━━━━━━━━━━━━━━━━━━━━━━━━━━━╇━━━━━━━━━━━━━━━━━━━━━━━━╇━━━━━━━━━━━━━━━┩\n",
              "│ embedding (<span style=\"color: #0087ff; text-decoration-color: #0087ff\">Embedding</span>)           │ ?                      │   <span style=\"color: #00af00; text-decoration-color: #00af00\">0</span> (unbuilt) │\n",
              "├─────────────────────────────────┼────────────────────────┼───────────────┤\n",
              "│ global_average_pooling1d        │ ?                      │             <span style=\"color: #00af00; text-decoration-color: #00af00\">0</span> │\n",
              "│ (<span style=\"color: #0087ff; text-decoration-color: #0087ff\">GlobalAveragePooling1D</span>)        │                        │               │\n",
              "├─────────────────────────────────┼────────────────────────┼───────────────┤\n",
              "│ dense (<span style=\"color: #0087ff; text-decoration-color: #0087ff\">Dense</span>)                   │ ?                      │   <span style=\"color: #00af00; text-decoration-color: #00af00\">0</span> (unbuilt) │\n",
              "├─────────────────────────────────┼────────────────────────┼───────────────┤\n",
              "│ dense_1 (<span style=\"color: #0087ff; text-decoration-color: #0087ff\">Dense</span>)                 │ ?                      │   <span style=\"color: #00af00; text-decoration-color: #00af00\">0</span> (unbuilt) │\n",
              "└─────────────────────────────────┴────────────────────────┴───────────────┘\n",
              "</pre>\n"
            ]
          },
          "metadata": {}
        },
        {
          "output_type": "display_data",
          "data": {
            "text/plain": [
              "\u001b[1m Total params: \u001b[0m\u001b[38;5;34m0\u001b[0m (0.00 B)\n"
            ],
            "text/html": [
              "<pre style=\"white-space:pre;overflow-x:auto;line-height:normal;font-family:Menlo,'DejaVu Sans Mono',consolas,'Courier New',monospace\"><span style=\"font-weight: bold\"> Total params: </span><span style=\"color: #00af00; text-decoration-color: #00af00\">0</span> (0.00 B)\n",
              "</pre>\n"
            ]
          },
          "metadata": {}
        },
        {
          "output_type": "display_data",
          "data": {
            "text/plain": [
              "\u001b[1m Trainable params: \u001b[0m\u001b[38;5;34m0\u001b[0m (0.00 B)\n"
            ],
            "text/html": [
              "<pre style=\"white-space:pre;overflow-x:auto;line-height:normal;font-family:Menlo,'DejaVu Sans Mono',consolas,'Courier New',monospace\"><span style=\"font-weight: bold\"> Trainable params: </span><span style=\"color: #00af00; text-decoration-color: #00af00\">0</span> (0.00 B)\n",
              "</pre>\n"
            ]
          },
          "metadata": {}
        },
        {
          "output_type": "display_data",
          "data": {
            "text/plain": [
              "\u001b[1m Non-trainable params: \u001b[0m\u001b[38;5;34m0\u001b[0m (0.00 B)\n"
            ],
            "text/html": [
              "<pre style=\"white-space:pre;overflow-x:auto;line-height:normal;font-family:Menlo,'DejaVu Sans Mono',consolas,'Courier New',monospace\"><span style=\"font-weight: bold\"> Non-trainable params: </span><span style=\"color: #00af00; text-decoration-color: #00af00\">0</span> (0.00 B)\n",
              "</pre>\n"
            ]
          },
          "metadata": {}
        }
      ]
    },
    {
      "cell_type": "markdown",
      "source": [
        "## 4. Training & Evaluation\n"
      ],
      "metadata": {
        "id": "wBUImLcRqhO3"
      }
    },
    {
      "cell_type": "code",
      "source": [
        "# Train model\n",
        "history = model.fit(\n",
        "    train_padded,\n",
        "    train_labels,\n",
        "    epochs=10,\n",
        "    validation_data=(test_padded, test_labels),\n",
        "    verbose=2\n",
        ")\n",
        "\n",
        "# Plot training history\n",
        "def plot_history(history):\n",
        "    plt.plot(history.history['accuracy'], label='accuracy')\n",
        "    plt.plot(history.history['val_accuracy'], label='val_accuracy')\n",
        "    plt.xlabel('Epoch')\n",
        "    plt.ylabel('Accuracy')\n",
        "    plt.ylim([0, 1])\n",
        "    plt.legend()\n",
        "    plt.show()\n",
        "\n",
        "plot_history(history)\n",
        "\n",
        "# Evaluate model\n",
        "loss, accuracy = model.evaluate(test_padded, test_labels)\n",
        "print(f'\\nTest accuracy: {accuracy:.2%}')"
      ],
      "metadata": {
        "colab": {
          "base_uri": "https://localhost:8080/",
          "height": 854
        },
        "id": "IknQ8JSSqhiS",
        "outputId": "e3e2e985-d5b2-428f-8c96-10f01c0db189"
      },
      "execution_count": 9,
      "outputs": [
        {
          "output_type": "stream",
          "name": "stdout",
          "text": [
            "Epoch 1/10\n",
            "131/131 - 2s - 18ms/step - accuracy: 0.8660 - loss: 0.3616 - val_accuracy: 0.8657 - val_loss: 0.3324\n",
            "Epoch 2/10\n",
            "131/131 - 0s - 3ms/step - accuracy: 0.8660 - loss: 0.2953 - val_accuracy: 0.8657 - val_loss: 0.3028\n",
            "Epoch 3/10\n",
            "131/131 - 1s - 5ms/step - accuracy: 0.8868 - loss: 0.2349 - val_accuracy: 0.8728 - val_loss: 0.2765\n",
            "Epoch 4/10\n",
            "131/131 - 0s - 3ms/step - accuracy: 0.9407 - loss: 0.1688 - val_accuracy: 0.8851 - val_loss: 0.2716\n",
            "Epoch 5/10\n",
            "131/131 - 0s - 3ms/step - accuracy: 0.9651 - loss: 0.1142 - val_accuracy: 0.8908 - val_loss: 0.2614\n",
            "Epoch 6/10\n",
            "131/131 - 1s - 4ms/step - accuracy: 0.9751 - loss: 0.0807 - val_accuracy: 0.8750 - val_loss: 0.3196\n",
            "Epoch 7/10\n",
            "131/131 - 0s - 3ms/step - accuracy: 0.9787 - loss: 0.0654 - val_accuracy: 0.8793 - val_loss: 0.3020\n",
            "Epoch 8/10\n",
            "131/131 - 1s - 5ms/step - accuracy: 0.9835 - loss: 0.0543 - val_accuracy: 0.8772 - val_loss: 0.3346\n",
            "Epoch 9/10\n",
            "131/131 - 1s - 10ms/step - accuracy: 0.9847 - loss: 0.0480 - val_accuracy: 0.8743 - val_loss: 0.3734\n",
            "Epoch 10/10\n",
            "131/131 - 1s - 8ms/step - accuracy: 0.9856 - loss: 0.0439 - val_accuracy: 0.8764 - val_loss: 0.3458\n"
          ]
        },
        {
          "output_type": "display_data",
          "data": {
            "text/plain": [
              "<Figure size 640x480 with 1 Axes>"
            ],
            "image/png": "[encoded data removed]"
          },
          "metadata": {}
        },
        {
          "output_type": "stream",
          "name": "stdout",
          "text": [
            "\u001b[1m44/44\u001b[0m \u001b[32m━━━━━━━━━━━━━━━━━━━━\u001b[0m\u001b[37m\u001b[0m \u001b[1m0s\u001b[0m 2ms/step - accuracy: 0.8825 - loss: 0.3294\n",
            "\n",
            "Test accuracy: 87.64%\n"
          ]
        }
      ]
    },
    {
      "cell_type": "markdown",
      "source": [
        "## 5. Prediction Function\n"
      ],
      "metadata": {
        "id": "_dzx47y8qkQn"
      }
    },
    {
      "cell_type": "code",
      "source": [
        "def predict_message(message):\n",
        "    \"\"\"Predict if message is ham or spam\"\"\"\n",
        "    # Preprocess input\n",
        "    sequence = tokenizer.texts_to_sequences([message])\n",
        "    padded = pad_sequences(sequence, maxlen=max_len, truncating='post')\n",
        "\n",
        "    # Make prediction\n",
        "    prediction = model.predict(padded)[0][0]\n",
        "    label = 'spam' if prediction >= 0.5 else 'ham'\n",
        "\n",
        "    return [prediction, label]\n",
        "\n",
        "# Test prediction\n",
        "test_messages = [\n",
        "    \"Free entry in 2 a wkly comp to win FA Cup final tkts 21st May 2005\",\n",
        "    \"Hey there, just checking in to see how you're doing\"\n",
        "]\n",
        "\n",
        "for msg in test_messages:\n",
        "    print(f\"\\nMessage: {msg}\")\n",
        "    prediction = predict_message(msg)\n",
        "    print(f\"Prediction: {prediction[0]:.4f} ({prediction[1]})\")"
      ],
      "metadata": {
        "colab": {
          "base_uri": "https://localhost:8080/"
        },
        "id": "apENmrJCqkiL",
        "outputId": "1defc27d-cdfc-4686-eb06-d2a210657cd9"
      },
      "execution_count": 10,
      "outputs": [
        {
          "output_type": "stream",
          "name": "stdout",
          "text": [
            "\n",
            "Message: Free entry in 2 a wkly comp to win FA Cup final tkts 21st May 2005\n",
            "\u001b[1m1/1\u001b[0m \u001b[32m━━━━━━━━━━━━━━━━━━━━\u001b[0m\u001b[37m\u001b[0m \u001b[1m0s\u001b[0m 96ms/step\n",
            "Prediction: 0.7309 (spam)\n",
            "\n",
            "Message: Hey there, just checking in to see how you're doing\n",
            "\u001b[1m1/1\u001b[0m \u001b[32m━━━━━━━━━━━━━━━━━━━━\u001b[0m\u001b[37m\u001b[0m \u001b[1m0s\u001b[0m 38ms/step\n",
            "Prediction: 0.0059 (ham)\n"
          ]
        }
      ]
    },
    {
      "cell_type": "markdown",
      "source": [
        "## 6. Explanation"
      ],
      "metadata": {
        "id": "FICPHqmKtQpu"
      }
    },
    {
      "cell_type": "markdown",
      "source": [
        "- **Model Type**: Neural network with embedding and dense layers for text classification\n",
        "- **Input**: Processes SMS messages by converting words to numerical tokens\n",
        "- **Output**: Predicts probability (0-1) of message being spam\n",
        "- **Key Features**: Handles variable-length texts, learns word relationships"
      ],
      "metadata": {
        "id": "EpsnDwVNtS5_"
      }
    },
    {
      "cell_type": "markdown",
      "source": [
        "\n",
        "\n",
        "---\n",
        "\n"
      ],
      "metadata": {
        "id": "XXOe2kwmtT1H"
      }
    }
  ]
}